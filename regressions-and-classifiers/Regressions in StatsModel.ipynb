{
 "cells": [
  {
   "cell_type": "markdown",
   "metadata": {},
   "source": [
    "Daniel Rocha Ruiz, MSc in Data Science and Business Analytics\n",
    "\n",
    "# Introduction\n",
    "## Summary\n",
    "- This notebook is a cookbook for a few basic regression types with the **Scikit-LearnScikit-Learn** package.\n",
    "- We will go through the most fundamental steps of model development, but our goal is really to demo the package.\n",
    "- We will run Univariate and Multivariate Linear Regressions, exploring the famous `diabetes` dataset.\n",
    "- We will also run Binary and Multinomial Logistic Regression, exploring the also famous `digits` dataset.\n",
    "\n",
    "## Sources\n",
    "- https://machinelearningmastery.com/roc-curves-and-precision-recall-curves-for-classification-in-python/\n",
    "- https://pypi.org/project/statsmodels/\n",
    "- https://www.statsmodels.org/stable/index.html\n",
    "- https://towardsdatascience.com/a-beginners-guide-to-linear-regression-in-python-with-scikit-learn-83a8f7ae2b4f\n",
    "- https://towardsdatascience.com/logistic-regression-using-python-sklearn-numpy-mnist-handwriting-recognition-matplotlib-a6b31e2b166a\n",
    "\n",
    "# Regressions\n",
    "## Set-up\n",
    "### Import packages\n",
    "In this section we import the **Stats-Models** packages, as well as a few other general packages."
   ]
  },
  {
   "cell_type": "code",
   "execution_count": 1,
   "metadata": {},
   "outputs": [],
   "source": [
    "# general packages\n",
    "import numpy as np\n",
    "import pandas as pd\n",
    "import seaborn as sns\n",
    "import matplotlib.pyplot as plt\n",
    "\n",
    "# statsmodels\n",
    "# if you have just run \"pip install statsmodels\", you might need to close and relaunch Jupyter for the package to function properly.\n",
    "import statsmodels.api as sm\n",
    "import statsmodels.formula.api as smf\n",
    "from statsmodels.formula.api import ols\n",
    "from statsmodels.regression.linear_model import OLS\n",
    "\n",
    "# scikit-learn\n",
    "from sklearn import datasets\n",
    "from sklearn.metrics import mean_squared_error, mean_absolute_error, r2_score, roc_curve, roc_auc_score, confusion_matrix\n",
    "from sklearn.model_selection import train_test_split"
   ]
  },
  {
   "cell_type": "markdown",
   "metadata": {},
   "source": [
    "### Load and prepare the data\n",
    "The first example explores Scikit-Learn's `diabetes` dataset. It goes through the basic steps of running an univariate linear regression, including the minimization, quality measures and plotting."
   ]
  },
  {
   "cell_type": "code",
   "execution_count": 2,
   "metadata": {},
   "outputs": [
    {
     "name": "stdout",
     "output_type": "stream",
     "text": [
      "Dataset columns: dict_keys(['data', 'target', 'frame', 'DESCR', 'feature_names', 'data_filename', 'target_filename', 'data_module'])\n",
      "Dataset feature mames: ['age', 'sex', 'bmi', 'bp', 's1', 's2', 's3', 's4', 's5', 's6']\n",
      "Dataset data dimension: (442, 10)\n",
      ".. _diabetes_dataset:\n",
      "\n",
      "Diabetes dataset\n",
      "----------------\n",
      "\n",
      "Ten baseline variables, age, sex, body mass index, average blood\n",
      "pressure, and six blood serum measurements were obtained for each of n =\n",
      "442 diabetes patients, as well as the response of interest, a\n",
      "quantitative measure of disease progression one year after baseline.\n",
      "\n",
      "**Data Set Characteristics:**\n",
      "\n",
      "  :Number of Instances: 442\n",
      "\n",
      "  :Number of Attributes: First 10 columns are numeric predictive values\n",
      "\n",
      "  :Target: Column 11 is a quantitative measure of disease progression one year after baseline\n",
      "\n",
      "  :Attribute Information:\n",
      "      - age     age in years\n",
      "      - sex\n",
      "      - bmi     body mass index\n",
      "      - bp      average blood pressure\n",
      "      - s1      tc, total serum cholesterol\n",
      "      - s2      ldl, low-density lipoproteins\n",
      "      - s3      hdl, high-density lipoproteins\n",
      "      - s4      tch, total cholesterol / HDL\n",
      "      - s5      ltg, possibly log of serum triglycerides level\n",
      "      - s6      glu, blood sugar level\n",
      "\n",
      "Note: Each of these 10 feature variables have been mean centered and scaled by the standard deviation times `n_samples` (i.e. the sum of squares of each column totals 1).\n",
      "\n",
      "Source URL:\n",
      "https://www4.stat.ncsu.edu/~boos/var.select/diabetes.html\n",
      "\n",
      "For more information see:\n",
      "Bradley Efron, Trevor Hastie, Iain Johnstone and Robert Tibshirani (2004) \"Least Angle Regression,\" Annals of Statistics (with discussion), 407-499.\n",
      "(https://web.stanford.edu/~hastie/Papers/LARS/LeastAngle_2002.pdf)\n"
     ]
    }
   ],
   "source": [
    "# Load the dataset\n",
    "# Sklearn has a few built-in datasets. This dataset analyses the evolution of diabetes in a set of patients.\n",
    "dataset = datasets.load_diabetes()\n",
    "\n",
    "# For the StatsModels datasets:\n",
    "#dataset = sm.datasets.get_rdataset(\"Guerry\", \"HistData\").data\n",
    "\n",
    "# Description\n",
    "print(\"Dataset columns:\", dataset.keys())\n",
    "print(\"Dataset feature mames:\", dataset.feature_names)\n",
    "print(\"Dataset data dimension:\", dataset.data.shape)\n",
    "print(dataset.DESCR)"
   ]
  },
  {
   "cell_type": "markdown",
   "metadata": {},
   "source": [
    "## Univariate Linear Regression\n",
    "### Train the model"
   ]
  },
  {
   "cell_type": "code",
   "execution_count": 3,
   "metadata": {},
   "outputs": [
    {
     "name": "stdout",
     "output_type": "stream",
     "text": [
      "Univariate X: (442, 1)\n",
      "Training set dimension (X): (353, 1)\n",
      "Test set dimension (X): (89, 1)\n",
      "Training set dimension (Y): (353,)\n",
      "Test set dimension (Y): (89,)\n"
     ]
    }
   ],
   "source": [
    "# Univariate regression -> We use only one feature\n",
    "# Y = Quantitative measure of disease progression one year after baseline\n",
    "# X = Body Mass Index (Normalized)\n",
    "\n",
    "dataset_X = dataset.data[:, np.newaxis, 2]\n",
    "dataset_y = dataset.target\n",
    "print(\"Univariate X:\", dataset_X.shape)\n",
    "\n",
    "# We divide our dataset into training/testing sets\n",
    "\n",
    "dataset_X_train, dataset_X_test, dataset_y_train, dataset_y_test = train_test_split(dataset_X, dataset_y, test_size=0.2, random_state=0)\n",
    "print(\"Training set dimension (X):\", dataset_X_train.shape)\n",
    "print(\"Test set dimension (X):\", dataset_X_test.shape)\n",
    "print(\"Training set dimension (Y):\", dataset_y_train.shape)\n",
    "print(\"Test set dimension (Y):\", dataset_y_test.shape)"
   ]
  },
  {
   "cell_type": "code",
   "execution_count": 4,
   "metadata": {},
   "outputs": [
    {
     "data": {
      "image/png": "[encoded data removed]",
      "text/plain": [
       "<Figure size 1080x720 with 1 Axes>"
      ]
     },
     "metadata": {
      "needs_background": "light"
     },
     "output_type": "display_data"
    }
   ],
   "source": [
    "# Visualizing the training set\n",
    "plt.figure(figsize=(15,10))\n",
    "plt.tight_layout()\n",
    "sns.histplot(dataset_X_train)\n",
    "plt.show()"
   ]
  },
  {
   "cell_type": "markdown",
   "metadata": {},
   "source": [
    "#### R-Like (Optional)\n",
    "- Here the codes with an \"R-like\" format."
   ]
  },
  {
   "cell_type": "code",
   "execution_count": 5,
   "metadata": {},
   "outputs": [
    {
     "name": "stdout",
     "output_type": "stream",
     "text": [
      "                            OLS Regression Results                            \n",
      "==============================================================================\n",
      "Dep. Variable:                 target   R-squared:                       0.376\n",
      "Model:                            OLS   Adj. R-squared:                  0.374\n",
      "Method:                 Least Squares   F-statistic:                     211.2\n",
      "Date:                Mon, 09 May 2022   Prob (F-statistic):           8.70e-38\n",
      "Time:                        11:24:03   Log-Likelihood:                -1957.0\n",
      "No. Observations:                 353   AIC:                             3918.\n",
      "Df Residuals:                     351   BIC:                             3926.\n",
      "Df Model:                           1                                         \n",
      "Covariance Type:            nonrobust                                         \n",
      "==============================================================================\n",
      "                 coef    std err          t      P>|t|      [0.025      0.975]\n",
      "------------------------------------------------------------------------------\n",
      "Intercept    152.2882      3.303     46.111      0.000     145.793     158.784\n",
      "bmi          981.6554     67.553     14.532      0.000     848.796    1114.515\n",
      "==============================================================================\n",
      "Omnibus:                        7.843   Durbin-Watson:                   1.960\n",
      "Prob(Omnibus):                  0.020   Jarque-Bera (JB):                5.005\n",
      "Skew:                           0.123   Prob(JB):                       0.0819\n",
      "Kurtosis:                       2.471   Cond. No.                         20.5\n",
      "==============================================================================\n",
      "\n",
      "Notes:\n",
      "[1] Standard Errors assume that the covariance matrix of the errors is correctly specified.\n"
     ]
    }
   ],
   "source": [
    "# Univariate regression -> We use only one feature\n",
    "# Y = Quantitative measure of disease progression one year after baseline\n",
    "# X = Body Mass Index (Normalized)\n",
    "\n",
    "dataset_train = pd.concat([pd.DataFrame(dataset_X_train), pd.DataFrame(dataset_y_train)], axis=1)\n",
    "dataset_train.columns = [\"bmi\",\"target\"]\n",
    "\n",
    "model = ols(\"target ~ bmi\", data=dataset_train)\n",
    "results = model.fit()\n",
    "\n",
    "# Printing the results is super easy! It's the same result as the code below!\n",
    "print(results.summary())"
   ]
  },
  {
   "cell_type": "markdown",
   "metadata": {},
   "source": [
    "#### Numpy\n",
    "- Here the same codes, but with Numpy."
   ]
  },
  {
   "cell_type": "code",
   "execution_count": 6,
   "metadata": {},
   "outputs": [
    {
     "name": "stdout",
     "output_type": "stream",
     "text": [
      "                            OLS Regression Results                            \n",
      "==============================================================================\n",
      "Dep. Variable:                      y   R-squared:                       0.376\n",
      "Model:                            OLS   Adj. R-squared:                  0.374\n",
      "Method:                 Least Squares   F-statistic:                     211.2\n",
      "Date:                Mon, 09 May 2022   Prob (F-statistic):           8.70e-38\n",
      "Time:                        11:24:03   Log-Likelihood:                -1957.0\n",
      "No. Observations:                 353   AIC:                             3918.\n",
      "Df Residuals:                     351   BIC:                             3926.\n",
      "Df Model:                           1                                         \n",
      "Covariance Type:            nonrobust                                         \n",
      "==============================================================================\n",
      "                 coef    std err          t      P>|t|      [0.025      0.975]\n",
      "------------------------------------------------------------------------------\n",
      "const        152.2882      3.303     46.111      0.000     145.793     158.784\n",
      "x1           981.6554     67.553     14.532      0.000     848.796    1114.515\n",
      "==============================================================================\n",
      "Omnibus:                        7.843   Durbin-Watson:                   1.960\n",
      "Prob(Omnibus):                  0.020   Jarque-Bera (JB):                5.005\n",
      "Skew:                           0.123   Prob(JB):                       0.0819\n",
      "Kurtosis:                       2.471   Cond. No.                         20.5\n",
      "==============================================================================\n",
      "\n",
      "Notes:\n",
      "[1] Standard Errors assume that the covariance matrix of the errors is correctly specified.\n"
     ]
    }
   ],
   "source": [
    "# Univariate regression -> We use only one feature\n",
    "# Y = Quantitative measure of disease progression one year after baseline\n",
    "# X = Body Mass Index (Normalized)\n",
    "\n",
    "model = OLS(dataset_y_train, sm.add_constant(dataset_X_train))\n",
    "results = model.fit()\n",
    "\n",
    "# Printing the results is super easy! It's the same result as the code above!\n",
    "print(results.summary())"
   ]
  },
  {
   "cell_type": "markdown",
   "metadata": {},
   "source": [
    "### Analyse the results"
   ]
  },
  {
   "cell_type": "code",
   "execution_count": 7,
   "metadata": {},
   "outputs": [
    {
     "name": "stdout",
     "output_type": "stream",
     "text": [
      "Intercept & Coefficients:\n",
      " [152.28824927 981.65543614]\n"
     ]
    }
   ],
   "source": [
    "# The coefficients\n",
    "print(\"Intercept & Coefficients:\\n\", results.params)"
   ]
  },
  {
   "cell_type": "code",
   "execution_count": 9,
   "metadata": {},
   "outputs": [],
   "source": [
    "# Make predictions using the test set\n",
    "dataset_y_pred = results.predict(sm.add_constant(dataset_X_test))"
   ]
  },
  {
   "cell_type": "code",
   "execution_count": 10,
   "metadata": {},
   "outputs": [
    {
     "name": "stdout",
     "output_type": "stream",
     "text": [
      "Mean Absolute Error: 52.94\n",
      "Mean Squared Error: 4150.68\n",
      "Root Mean Squared Error: 64.43\n",
      "R-Square: 0.38\n"
     ]
    }
   ],
   "source": [
    "# Quality metrics\n",
    "# The mean squared error\n",
    "print(\"Mean Absolute Error: {:.2f}\".format(mean_absolute_error(dataset_y_test, dataset_y_pred)))\n",
    "print(\"Mean Squared Error: {:.2f}\".format(mean_squared_error(dataset_y_test, dataset_y_pred)))\n",
    "print(\"Root Mean Squared Error: {:.2f}\".format(mean_squared_error(dataset_y_test, dataset_y_pred)**0.5))\n",
    "# Explained variance score (1 is perfect prediction)\n",
    "print(\"R-Square: {:.2f}\".format(results.rsquared))"
   ]
  },
  {
   "cell_type": "code",
   "execution_count": 12,
   "metadata": {},
   "outputs": [
    {
     "data": {
      "image/png": "[encoded data removed]",
      "text/plain": [
       "<Figure size 1080x720 with 1 Axes>"
      ]
     },
     "metadata": {
      "needs_background": "light"
     },
     "output_type": "display_data"
    }
   ],
   "source": [
    "# Plot outputs\n",
    "dataset_X_plot = dataset_X_test\n",
    "dataset_y_plot = dataset_y_test\n",
    "\n",
    "plt.figure(figsize=(15,10))\n",
    "plt.tight_layout()\n",
    "plt.scatter(dataset_X_plot, dataset_y_plot,  color='gray')\n",
    "plt.plot(dataset_X_plot, dataset_y_pred, color='red', linewidth=2)\n",
    "plt.title(\"Univariate Linear Regression - Total Effects\")\n",
    "plt.xlabel(\"Body Mass Index (Normalized)\",fontweight=\"bold\")\n",
    "plt.ylabel(\"Diabetes Progression (Normalized)\")\n",
    "plt.show()"
   ]
  },
  {
   "cell_type": "markdown",
   "metadata": {},
   "source": [
    "## Multivariate Linear Regression\n",
    "### Train the model"
   ]
  },
  {
   "cell_type": "code",
   "execution_count": 13,
   "metadata": {},
   "outputs": [
    {
     "name": "stdout",
     "output_type": "stream",
     "text": [
      "Multivariate X: (442, 10)\n",
      "                            OLS Regression Results                            \n",
      "==============================================================================\n",
      "Dep. Variable:                      y   R-squared:                       0.554\n",
      "Model:                            OLS   Adj. R-squared:                  0.541\n",
      "Method:                 Least Squares   F-statistic:                     42.47\n",
      "Date:                Mon, 09 May 2022   Prob (F-statistic):           4.05e-54\n",
      "Time:                        11:24:23   Log-Likelihood:                -1897.7\n",
      "No. Observations:                 353   AIC:                             3817.\n",
      "Df Residuals:                     342   BIC:                             3860.\n",
      "Df Model:                          10                                         \n",
      "Covariance Type:            nonrobust                                         \n",
      "==============================================================================\n",
      "                 coef    std err          t      P>|t|      [0.025      0.975]\n",
      "------------------------------------------------------------------------------\n",
      "const        152.5381      2.836     53.789      0.000     146.960     158.116\n",
      "age          -35.5568     65.606     -0.542      0.588    -164.599      93.485\n",
      "sex         -243.1692     66.326     -3.666      0.000    -373.627    -112.711\n",
      "bmi          562.7540     71.709      7.848      0.000     421.708     703.800\n",
      "bp           305.4720     74.196      4.117      0.000     159.535     451.409\n",
      "s1          -662.7877    438.677     -1.511      0.132   -1525.632     200.056\n",
      "s2           324.2753    353.791      0.917      0.360    -371.605    1020.155\n",
      "s3            24.7819    233.478      0.106      0.916    -434.451     484.015\n",
      "s4           170.3306    181.374      0.939      0.348    -186.418     527.080\n",
      "s5           731.6781    183.523      3.987      0.000     370.703    1092.653\n",
      "s6            43.0285     70.624      0.609      0.543     -95.884     181.941\n",
      "==============================================================================\n",
      "Omnibus:                        2.147   Durbin-Watson:                   1.890\n",
      "Prob(Omnibus):                  0.342   Jarque-Bera (JB):                1.789\n",
      "Skew:                           0.003   Prob(JB):                        0.409\n",
      "Kurtosis:                       2.651   Cond. No.                         218.\n",
      "==============================================================================\n",
      "\n",
      "Notes:\n",
      "[1] Standard Errors assume that the covariance matrix of the errors is correctly specified.\n"
     ]
    }
   ],
   "source": [
    "# Multivariate Regression -> We use all features available\n",
    "# The same steps as in the univariate regression\n",
    "dataset_X = pd.DataFrame(dataset.data)\n",
    "dataset_X.columns = dataset.feature_names\n",
    "\n",
    "dataset_y = dataset.target\n",
    "\n",
    "print(\"Multivariate X:\", dataset_X.shape)\n",
    "dataset_X_train, dataset_X_test, dataset_y_train, dataset_y_test = train_test_split(dataset_X, dataset_y, test_size=0.2, random_state=0)\n",
    "model = OLS(dataset_y_train,  sm.add_constant(dataset_X_train))\n",
    "results = model.fit()\n",
    "\n",
    "print(results.summary())\n",
    "\n",
    "dataset_y_pred = results.predict(sm.add_constant(dataset_X_test))"
   ]
  },
  {
   "cell_type": "markdown",
   "metadata": {},
   "source": [
    "### Analyse the results"
   ]
  },
  {
   "cell_type": "code",
   "execution_count": 14,
   "metadata": {},
   "outputs": [
    {
     "name": "stdout",
     "output_type": "stream",
     "text": [
      "Mean Absolute Error: 46.17\n",
      "Mean Squared Error: 3424.32\n",
      "Root Mean Squared Error: 58.52\n",
      "R-Square: 0.55\n"
     ]
    }
   ],
   "source": [
    "# Quality metrics\n",
    "# The mean squared error\n",
    "print(\"Mean Absolute Error: {:.2f}\".format(mean_absolute_error(dataset_y_test, dataset_y_pred)))\n",
    "print(\"Mean Squared Error: {:.2f}\".format(mean_squared_error(dataset_y_test, dataset_y_pred)))\n",
    "print(\"Root Mean Squared Error: {:.2f}\".format(mean_squared_error(dataset_y_test, dataset_y_pred)**0.5))\n",
    "# Explained variance score (1 is perfect prediction)\n",
    "print(\"R-Square: {:.2f}\".format(results.rsquared))"
   ]
  },
  {
   "cell_type": "code",
   "execution_count": 15,
   "metadata": {},
   "outputs": [
    {
     "data": {
      "image/png": "[encoded data removed]",
      "text/plain": [
       "<Figure size 1080x720 with 1 Axes>"
      ]
     },
     "metadata": {
      "needs_background": "light"
     },
     "output_type": "display_data"
    }
   ],
   "source": [
    "# Plot outputs\n",
    "dataset_X_plot = dataset_X_test.bmi\n",
    "dataset_y_plot = dataset_y_test\n",
    "\n",
    "plt.figure(figsize=(15,10))\n",
    "plt.tight_layout()\n",
    "plt.scatter(dataset_X_plot, dataset_y_plot,  color='gray')\n",
    "\n",
    "sup = np.linspace(dataset_X_plot.min(),dataset_X_plot.max(),len(dataset_y_plot))\n",
    "plt.plot(sup, [results.params[\"const\"] + i*results.params[\"bmi\"]  for i in sup], color='red', linewidth=2)\n",
    "\n",
    "plt.title(\"Multivariate Linear Regression - Partial Effect\",fontweight=\"bold\")\n",
    "plt.xlabel(\"Body Mass Index (Normalized)\")\n",
    "plt.ylabel(\"Diabetes Progression (Normalized)\")\n",
    "\n",
    "plt.show()"
   ]
  },
  {
   "cell_type": "markdown",
   "metadata": {},
   "source": [
    "# Classifiers\n",
    "## Set-up\n",
    "### Load and prepare the data"
   ]
  },
  {
   "cell_type": "code",
   "execution_count": 16,
   "metadata": {},
   "outputs": [
    {
     "name": "stdout",
     "output_type": "stream",
     "text": [
      "Dataset columns: dict_keys(['data', 'target', 'frame', 'feature_names', 'target_names', 'images', 'DESCR'])\n",
      "Dataset target mames: [0 1 2 3 4 5 6 7 8 9]\n",
      "Dataset data dimension: (1797, 64)\n",
      ".. _digits_dataset:\n",
      "\n",
      "Optical recognition of handwritten digits dataset\n",
      "--------------------------------------------------\n",
      "\n",
      "**Data Set Characteristics:**\n",
      "\n",
      "    :Number of Instances: 1797\n",
      "    :Number of Attributes: 64\n",
      "    :Attribute Information: 8x8 image of integer pixels in the range 0..16.\n",
      "    :Missing Attribute Values: None\n",
      "    :Creator: E. Alpaydin (alpaydin '@' boun.edu.tr)\n",
      "    :Date: July; 1998\n",
      "\n",
      "This is a copy of the test set of the UCI ML hand-written digits datasets\n",
      "https://archive.ics.uci.edu/ml/datasets/Optical+Recognition+of+Handwritten+Digits\n",
      "\n",
      "The data set contains images of hand-written digits: 10 classes where\n",
      "each class refers to a digit.\n",
      "\n",
      "Preprocessing programs made available by NIST were used to extract\n",
      "normalized bitmaps of handwritten digits from a preprinted form. From a\n",
      "total of 43 people, 30 contributed to the training set and different 13\n",
      "to the test set. 32x32 bitmaps are divided into nonoverlapping blocks of\n",
      "4x4 and the number of on pixels are counted in each block. This generates\n",
      "an input matrix of 8x8 where each element is an integer in the range\n",
      "0..16. This reduces dimensionality and gives invariance to small\n",
      "distortions.\n",
      "\n",
      "For info on NIST preprocessing routines, see M. D. Garris, J. L. Blue, G.\n",
      "T. Candela, D. L. Dimmick, J. Geist, P. J. Grother, S. A. Janet, and C.\n",
      "L. Wilson, NIST Form-Based Handprint Recognition System, NISTIR 5469,\n",
      "1994.\n",
      "\n",
      ".. topic:: References\n",
      "\n",
      "  - C. Kaynak (1995) Methods of Combining Multiple Classifiers and Their\n",
      "    Applications to Handwritten Digit Recognition, MSc Thesis, Institute of\n",
      "    Graduate Studies in Science and Engineering, Bogazici University.\n",
      "  - E. Alpaydin, C. Kaynak (1998) Cascading Classifiers, Kybernetika.\n",
      "  - Ken Tang and Ponnuthurai N. Suganthan and Xi Yao and A. Kai Qin.\n",
      "    Linear dimensionalityreduction using relevance weighted LDA. School of\n",
      "    Electrical and Electronic Engineering Nanyang Technological University.\n",
      "    2005.\n",
      "  - Claudio Gentile. A New Approximate Maximal Margin Classification\n",
      "    Algorithm. NIPS. 2000.\n",
      "\n"
     ]
    }
   ],
   "source": [
    "# Load the dataset\n",
    "# Sklearn has a few built-in datasets. This dataset has images of hand-written numbers.\n",
    "dataset = datasets.load_digits()\n",
    "\n",
    "# Description\n",
    "print(\"Dataset columns:\", dataset.keys())\n",
    "print(\"Dataset target mames:\", dataset.target_names)\n",
    "print(\"Dataset data dimension:\", dataset.data.shape)\n",
    "print(dataset.DESCR)\n",
    "# all data is normalized (mean centered and scaled by the standard deviation times n_samples)"
   ]
  },
  {
   "cell_type": "markdown",
   "metadata": {},
   "source": [
    "## Binary Logistic Regression\n",
    "THe binary logistic regression essentially asks a yes-or-no question. As we have 10 digits (0,1,2,...,9), we will ask \"Is this the number 5?\".\n",
    "### Train the model"
   ]
  },
  {
   "cell_type": "code",
   "execution_count": 17,
   "metadata": {},
   "outputs": [
    {
     "name": "stdout",
     "output_type": "stream",
     "text": [
      "Multivariate X: (1797, 64)\n",
      "                           Logit Regression Results                           \n",
      "==============================================================================\n",
      "Dep. Variable:                      y   No. Observations:                 1437\n",
      "Model:                          Logit   Df Residuals:                     1375\n",
      "Method:                           MLE   Df Model:                           61\n",
      "Date:                Mon, 09 May 2022   Pseudo R-squ.:                   1.000\n",
      "Time:                        11:24:30   Log-Likelihood:             -0.0039534\n",
      "converged:                       True   LL-Null:                       -463.40\n",
      "Covariance Type:            nonrobust   LLR p-value:                5.513e-155\n",
      "==============================================================================\n",
      "                 coef    std err          z      P>|z|      [0.025      0.975]\n",
      "------------------------------------------------------------------------------\n",
      "const         -0.1278        nan        nan        nan         nan         nan\n",
      "x1                  0        nan        nan        nan         nan         nan\n",
      "x2             0.2793        nan        nan        nan         nan         nan\n",
      "x3             1.9040        nan        nan        nan         nan         nan\n",
      "x4            -1.4728        nan        nan        nan         nan         nan\n",
      "x5            -0.3261        nan        nan        nan         nan         nan\n",
      "x6             1.4361        nan        nan        nan         nan         nan\n",
      "x7             2.0568        nan        nan        nan         nan         nan\n",
      "x8            -0.5682        nan        nan        nan         nan         nan\n",
      "x9             0.0028        nan        nan        nan         nan         nan\n",
      "x10            0.2235        nan        nan        nan         nan         nan\n",
      "x11            0.7446        nan        nan        nan         nan         nan\n",
      "x12            0.3297        nan        nan        nan         nan         nan\n",
      "x13            0.4472        nan        nan        nan         nan         nan\n",
      "x14           -0.6146        nan        nan        nan         nan         nan\n",
      "x15           -1.0529        nan        nan        nan         nan         nan\n",
      "x16           -0.3278        nan        nan        nan         nan         nan\n",
      "x17           -0.0011        nan        nan        nan         nan         nan\n",
      "x18           -0.3016        nan        nan        nan         nan         nan\n",
      "x19            1.2934        nan        nan        nan         nan         nan\n",
      "x20            0.5021        nan        nan        nan         nan         nan\n",
      "x21           -1.9562        nan        nan        nan         nan         nan\n",
      "x22           -3.0033        nan        nan        nan         nan         nan\n",
      "x23           -3.0786        nan        nan        nan         nan         nan\n",
      "x24           -0.0761        nan        nan        nan         nan         nan\n",
      "x25           -0.0182        nan        nan        nan         nan         nan\n",
      "x26            0.1330        nan        nan        nan         nan         nan\n",
      "x27            1.2058        nan        nan        nan         nan         nan\n",
      "x28           -0.9205        nan        nan        nan         nan         nan\n",
      "x29            1.7284        nan        nan        nan         nan         nan\n",
      "x30            0.1179        nan        nan        nan         nan         nan\n",
      "x31           -2.8787        nan        nan        nan         nan         nan\n",
      "x32           -0.0007        nan        nan        nan         nan         nan\n",
      "x33                 0        nan        nan        nan         nan         nan\n",
      "x34           -1.2247        nan        nan        nan         nan         nan\n",
      "x35            0.3629        nan        nan        nan         nan         nan\n",
      "x36           -0.6564        nan        nan        nan         nan         nan\n",
      "x37           -0.4408        nan        nan        nan         nan         nan\n",
      "x38           -0.5743        nan        nan        nan         nan         nan\n",
      "x39           -0.1071        nan        nan        nan         nan         nan\n",
      "x40                 0        nan        nan        nan         nan         nan\n",
      "x41           -0.0010        nan        nan        nan         nan         nan\n",
      "x42           -1.0350        nan        nan        nan         nan         nan\n",
      "x43           -0.8351        nan        nan        nan         nan         nan\n",
      "x44           -1.2888        nan        nan        nan         nan         nan\n",
      "x45           -0.7011        nan        nan        nan         nan         nan\n",
      "x46            0.4380        nan        nan        nan         nan         nan\n",
      "x47            0.0788        nan        nan        nan         nan         nan\n",
      "x48           -0.0035        nan        nan        nan         nan         nan\n",
      "x49           -0.0002        nan        nan        nan         nan         nan\n",
      "x50            0.4896        nan        nan        nan         nan         nan\n",
      "x51           -0.6817        nan        nan        nan         nan         nan\n",
      "x52            0.0893        nan        nan        nan         nan         nan\n",
      "x53           -0.4284        nan        nan        nan         nan         nan\n",
      "x54           -0.4361        nan        nan        nan         nan         nan\n",
      "x55           -0.6857        nan        nan        nan         nan         nan\n",
      "x56           -0.1007        nan        nan        nan         nan         nan\n",
      "x57        -2.266e-06        nan        nan        nan         nan         nan\n",
      "x58            0.2338        nan        nan        nan         nan         nan\n",
      "x59            1.2609        nan        nan        nan         nan         nan\n",
      "x60            0.0651        nan        nan        nan         nan         nan\n",
      "x61           -0.6692        nan        nan        nan         nan         nan\n",
      "x62           -0.4775        nan        nan        nan         nan         nan\n",
      "x63           -0.6205        nan        nan        nan         nan         nan\n",
      "x64           -0.4913        nan        nan        nan         nan         nan\n",
      "==============================================================================\n",
      "\n",
      "Possibly complete quasi-separation: A fraction 0.99 of observations can be\n",
      "perfectly predicted. This might indicate that there is complete\n",
      "quasi-separation. In this case some parameters will not be identified.\n",
      "Coefficients: [-1.27765365e-01  0.00000000e+00  2.79312592e-01  1.90402761e+00\n",
      " -1.47276003e+00 -3.26075724e-01  1.43614422e+00  2.05678351e+00\n",
      " -5.68237603e-01  2.76702364e-03  2.23484715e-01  7.44555856e-01\n",
      "  3.29717187e-01  4.47152633e-01 -6.14586215e-01 -1.05294252e+00\n",
      " -3.27781602e-01 -1.08620944e-03 -3.01564352e-01  1.29343901e+00\n",
      "  5.02140945e-01 -1.95623233e+00 -3.00334994e+00 -3.07856606e+00\n",
      " -7.60915838e-02 -1.82442339e-02  1.32959558e-01  1.20584524e+00\n",
      " -9.20484999e-01  1.72839250e+00  1.17850709e-01 -2.87867024e+00\n",
      " -6.68084239e-04  0.00000000e+00 -1.22467428e+00  3.62922791e-01\n",
      " -6.56419007e-01 -4.40756579e-01 -5.74261636e-01 -1.07074522e-01\n",
      "  0.00000000e+00 -9.57003266e-04 -1.03504520e+00 -8.35102809e-01\n",
      " -1.28879804e+00 -7.01068074e-01  4.37980852e-01  7.87630868e-02\n",
      " -3.45826653e-03 -1.91107067e-04  4.89568660e-01 -6.81678088e-01\n",
      "  8.92741919e-02 -4.28418250e-01 -4.36137815e-01 -6.85670368e-01\n",
      " -1.00732477e-01 -2.26646277e-06  2.33770964e-01  1.26093435e+00\n",
      "  6.50656115e-02 -6.69208668e-01 -4.77517812e-01 -6.20464946e-01\n",
      " -4.91279198e-01]\n"
     ]
    },
    {
     "name": "stderr",
     "output_type": "stream",
     "text": [
      "C:\\ProgramData\\Miniconda3\\lib\\site-packages\\statsmodels\\base\\model.py:592: HessianInversionWarning: Inverting hessian failed, no bse or cov_params available\n",
      "  warnings.warn('Inverting hessian failed, no bse or cov_params '\n"
     ]
    }
   ],
   "source": [
    "# Logistic Regression -> We use all features available\n",
    "# Binomial: We create two y categories\n",
    "dataset_X = dataset.data\n",
    "dataset_y = (dataset.target==5).astype(int)\n",
    "\n",
    "print(\"Multivariate X:\", dataset_X.shape)\n",
    "\n",
    "dataset_X_train, dataset_X_test, dataset_y_train, dataset_y_test = train_test_split(dataset_X, dataset_y, test_size=0.20, random_state=0)\n",
    "\n",
    "model = sm.Logit(dataset_y_train,sm.add_constant(dataset_X_train))\n",
    "results = model.fit(method='lbfgs')\n",
    "\n",
    "# The coefficients\n",
    "print(results.summary())\n",
    "print(\"Coefficients:\", results.params)\n",
    "dataset_y_pred = results.predict(sm.add_constant(dataset_X_test))"
   ]
  },
  {
   "cell_type": "markdown",
   "metadata": {},
   "source": [
    "### Analyse the results"
   ]
  },
  {
   "cell_type": "code",
   "execution_count": 18,
   "metadata": {},
   "outputs": [
    {
     "name": "stdout",
     "output_type": "stream",
     "text": [
      "AUC: 0.998\n"
     ]
    },
    {
     "data": {
      "image/png": "[encoded data removed]",
      "text/plain": [
       "<Figure size 1080x720 with 1 Axes>"
      ]
     },
     "metadata": {
      "needs_background": "light"
     },
     "output_type": "display_data"
    }
   ],
   "source": [
    "auc = roc_auc_score(dataset_y_test, dataset_y_pred)\n",
    "print(\"AUC: {:.3f}\".format(auc))\n",
    "\n",
    "# Plot the precision-recall curve for the model\n",
    "fpr, tpr, thresholds = roc_curve(dataset_y_test, dataset_y_pred)\n",
    "\n",
    "plt.figure(figsize=(15,10))\n",
    "plt.plot([0, 1], [0, 1], linestyle='--')\n",
    "plt.plot(fpr, tpr, marker='.')\n",
    "plt.title(\"Precision-Recall Curve\",fontweight=\"bold\")\n",
    "plt.xlabel(\"False Positive Rate\")\n",
    "plt.ylabel(\"True Positive Rate\")\n",
    "plt.show()"
   ]
  },
  {
   "cell_type": "markdown",
   "metadata": {},
   "source": [
    "## Multinomial Logistic Regression\n",
    "In the multinomial logistic regression will predict which digit is in the image.\n",
    "### Train the model\n",
    "Unfortunately, there was a bug in the multinomial logistic regression in statsmodels. The model failed to coverge. So, Scikit-Learn seems like a better option."
   ]
  }
 ],
 "metadata": {
  "kernelspec": {
   "display_name": "tf_env",
   "language": "python",
   "name": "tf_env"
  },
  "language_info": {
   "codemirror_mode": {
    "name": "ipython",
    "version": 3
   },
   "file_extension": ".py",
   "mimetype": "text/x-python",
   "name": "python",
   "nbconvert_exporter": "python",
   "pygments_lexer": "ipython3",
   "version": "3.9.7"
  },
  "toc-autonumbering": true
 },
 "nbformat": 4,
 "nbformat_minor": 4
}
