{
 "cells": [
  {
   "cell_type": "markdown",
   "metadata": {},
   "source": [
    "Daniel Ruiz, MSc in Data Science and Business Analytics (DSBA), Bocconi University\n",
    "\n",
    "# Convolutional Neural Networks in Python - Fashion Images Classification\n",
    "\n",
    "Tutorial from DataCamp. Minor modifications applied.\n",
    "- https://www.datacamp.com/community/tutorials/convolutional-neural-networks-pythonm\n",
    "\n",
    "\n",
    "# 1. Preparing the data"
   ]
  },
  {
   "cell_type": "code",
   "execution_count": 1,
   "metadata": {},
   "outputs": [
    {
     "name": "stderr",
     "output_type": "stream",
     "text": [
      "Using TensorFlow backend.\n"
     ]
    }
   ],
   "source": [
    "# import packages\n",
    "import numpy as np\n",
    "from sklearn.metrics import classification_report\n",
    "from sklearn.model_selection import train_test_split\n",
    "\n",
    "# graphs\n",
    "import matplotlib.pyplot as plt\n",
    "\n",
    "# neural networks\n",
    "import keras\n",
    "from keras.datasets import fashion_mnist\n",
    "from keras.layers import Conv2D, Dense, Dropout, Flatten, MaxPooling2D\n",
    "from keras.layers.advanced_activations import LeakyReLU\n",
    "from keras.layers.normalization import BatchNormalization\n",
    "from keras.models import Input, Model, Sequential\n",
    "from keras.utils import to_categorical"
   ]
  },
  {
   "cell_type": "code",
   "execution_count": 2,
   "metadata": {},
   "outputs": [
    {
     "name": "stdout",
     "output_type": "stream",
     "text": [
      "Training data shape :  (60000, 28, 28) (60000,)\n",
      "Testing data shape :  (10000, 28, 28) (10000,)\n"
     ]
    }
   ],
   "source": [
    "# Fashion-MNIST = 70k Zalando's 28x28 grayscale images of fashion products from 10 categories\n",
    "\n",
    "# load data\n",
    "(train_X,train_Y), (test_X,test_Y) = fashion_mnist.load_data()\n",
    "\n",
    "# analyze data -> in case there's an image that's not 28x28\n",
    "print('Training data shape : ', train_X.shape, train_Y.shape)\n",
    "print('Testing data shape : ', test_X.shape, test_Y.shape)"
   ]
  },
  {
   "cell_type": "code",
   "execution_count": 3,
   "metadata": {},
   "outputs": [
    {
     "name": "stdout",
     "output_type": "stream",
     "text": [
      "Total number of outputs :  10\n",
      "Output classes :  [0 1 2 3 4 5 6 7 8 9]\n"
     ]
    }
   ],
   "source": [
    "# Find the unique numbers from the train labels\n",
    "classes = np.unique(train_Y)\n",
    "nClasses = len(classes)\n",
    "print('Total number of outputs : ', nClasses)\n",
    "print('Output classes : ', classes)"
   ]
  },
  {
   "cell_type": "code",
   "execution_count": 4,
   "metadata": {},
   "outputs": [
    {
     "data": {
      "text/plain": [
       "Text(0.5, 1.0, 'Ground Truth : 9')"
      ]
     },
     "execution_count": 4,
     "metadata": {},
     "output_type": "execute_result"
    },
    {
     "data": {
      "image/png": "[encoded data removed]",
      "text/plain": [
       "<Figure size 360x360 with 2 Axes>"
      ]
     },
     "metadata": {
      "needs_background": "light"
     },
     "output_type": "display_data"
    }
   ],
   "source": [
    "# looking at two images\n",
    "plt.figure(figsize=[5,5])\n",
    "\n",
    "# Display the first image in training data\n",
    "plt.subplot(121)\n",
    "plt.imshow(train_X[0,:,:], cmap='gray')\n",
    "plt.title(\"Ground Truth : {}\".format(train_Y[0]))\n",
    "\n",
    "# Display the first image in testing data\n",
    "plt.subplot(122)\n",
    "plt.imshow(test_X[0,:,:], cmap='gray')\n",
    "plt.title(\"Ground Truth : {}\".format(test_Y[0]))"
   ]
  },
  {
   "cell_type": "code",
   "execution_count": 5,
   "metadata": {},
   "outputs": [
    {
     "data": {
      "text/plain": [
       "((60000, 28, 28, 1), (10000, 28, 28, 1))"
      ]
     },
     "execution_count": 5,
     "metadata": {},
     "output_type": "execute_result"
    }
   ],
   "source": [
    "# reshape matrices: 28x28 -> 28x28x1\n",
    "train_X = train_X.reshape(-1, 28,28, 1)\n",
    "test_X = test_X.reshape(-1, 28,28, 1)\n",
    "train_X.shape, test_X.shape"
   ]
  },
  {
   "cell_type": "code",
   "execution_count": 6,
   "metadata": {},
   "outputs": [],
   "source": [
    "# data type: int8 -> float32\n",
    "train_X = train_X.astype('float32')\n",
    "test_X = test_X.astype('float32')\n",
    "\n",
    "# re-scale: 0-255 -> 0-1\n",
    "train_X = train_X / 255.\n",
    "test_X = test_X / 255."
   ]
  },
  {
   "cell_type": "code",
   "execution_count": 7,
   "metadata": {},
   "outputs": [
    {
     "name": "stdout",
     "output_type": "stream",
     "text": [
      "Original label: 9\n",
      "After conversion to one-hot: [0. 0. 0. 0. 0. 0. 0. 0. 0. 1.]\n"
     ]
    }
   ],
   "source": [
    "# Change the labels from categorical to one-hot encoding\n",
    "train_Y_one_hot = to_categorical(train_Y)\n",
    "test_Y_one_hot = to_categorical(test_Y)\n",
    "\n",
    "# Display the change for category label using one-hot encoding\n",
    "print('Original label:', train_Y[0])\n",
    "print('After conversion to one-hot:', train_Y_one_hot[0])"
   ]
  },
  {
   "cell_type": "code",
   "execution_count": 8,
   "metadata": {},
   "outputs": [
    {
     "data": {
      "text/plain": [
       "array([[0., 0., 0., ..., 0., 0., 1.],\n",
       "       [0., 0., 1., ..., 0., 0., 0.],\n",
       "       [0., 1., 0., ..., 0., 0., 0.],\n",
       "       ...,\n",
       "       [0., 0., 0., ..., 0., 1., 0.],\n",
       "       [0., 1., 0., ..., 0., 0., 0.],\n",
       "       [0., 0., 0., ..., 0., 0., 0.]], dtype=float32)"
      ]
     },
     "execution_count": 8,
     "metadata": {},
     "output_type": "execute_result"
    }
   ],
   "source": [
    "test_Y_one_hot"
   ]
  },
  {
   "cell_type": "code",
   "execution_count": 9,
   "metadata": {},
   "outputs": [
    {
     "name": "stdout",
     "output_type": "stream",
     "text": [
      "(48000, 28, 28, 1)\n",
      "(12000, 28, 28, 1)\n",
      "(48000, 10)\n",
      "(12000, 10)\n"
     ]
    }
   ],
   "source": [
    "train_X,valid_X,train_label,valid_label = train_test_split(train_X, train_Y_one_hot, test_size=0.2, random_state=13)\n",
    "\n",
    "print(train_X.shape)\n",
    "print(valid_X.shape)\n",
    "print(train_label.shape)\n",
    "print(valid_label.shape)"
   ]
  },
  {
   "cell_type": "markdown",
   "metadata": {},
   "source": [
    "# 2. Modelling the data\n",
    "\n",
    "## 2.1. Basic Model (Without Drop-Out)"
   ]
  },
  {
   "cell_type": "code",
   "execution_count": 10,
   "metadata": {},
   "outputs": [
    {
     "name": "stdout",
     "output_type": "stream",
     "text": [
      "Model: \"sequential_1\"\n",
      "_________________________________________________________________\n",
      "Layer (type)                 Output Shape              Param #   \n",
      "=================================================================\n",
      "conv2d_1 (Conv2D)            (None, 28, 28, 32)        320       \n",
      "_________________________________________________________________\n",
      "leaky_re_lu_1 (LeakyReLU)    (None, 28, 28, 32)        0         \n",
      "_________________________________________________________________\n",
      "max_pooling2d_1 (MaxPooling2 (None, 14, 14, 32)        0         \n",
      "_________________________________________________________________\n",
      "conv2d_2 (Conv2D)            (None, 14, 14, 64)        18496     \n",
      "_________________________________________________________________\n",
      "leaky_re_lu_2 (LeakyReLU)    (None, 14, 14, 64)        0         \n",
      "_________________________________________________________________\n",
      "max_pooling2d_2 (MaxPooling2 (None, 7, 7, 64)          0         \n",
      "_________________________________________________________________\n",
      "conv2d_3 (Conv2D)            (None, 7, 7, 128)         73856     \n",
      "_________________________________________________________________\n",
      "leaky_re_lu_3 (LeakyReLU)    (None, 7, 7, 128)         0         \n",
      "_________________________________________________________________\n",
      "max_pooling2d_3 (MaxPooling2 (None, 4, 4, 128)         0         \n",
      "_________________________________________________________________\n",
      "flatten_1 (Flatten)          (None, 2048)              0         \n",
      "_________________________________________________________________\n",
      "dense_1 (Dense)              (None, 128)               262272    \n",
      "_________________________________________________________________\n",
      "leaky_re_lu_4 (LeakyReLU)    (None, 128)               0         \n",
      "_________________________________________________________________\n",
      "dense_2 (Dense)              (None, 10)                1290      \n",
      "=================================================================\n",
      "Total params: 356,234\n",
      "Trainable params: 356,234\n",
      "Non-trainable params: 0\n",
      "_________________________________________________________________\n",
      "None\n"
     ]
    }
   ],
   "source": [
    "# parameters\n",
    "batch_size = 64\n",
    "epochs = 10\n",
    "num_classes = 10\n",
    "\n",
    "# architecture: 3 layers\n",
    "# 1st layer = 32-3 x 3 filters\n",
    "# 2nd layer = 64-3 x 3 filters\n",
    "# 3rd layer = 128-3 x 3 filters\n",
    "\n",
    "# structure: layer, activation (Leaky ReLU, max-pooling (2x2)\n",
    "\n",
    "# sequential\n",
    "fashion_model = Sequential()\n",
    "# layer 1 = 32-3 x 3\n",
    "fashion_model.add(Conv2D(32, kernel_size=(3, 3),activation='linear',input_shape=(28,28,1),padding='same'))\n",
    "fashion_model.add(LeakyReLU(alpha=0.1))\n",
    "fashion_model.add(MaxPooling2D((2, 2),padding='same'))\n",
    "# layer 2 = 64-3 x 3 filters\n",
    "fashion_model.add(Conv2D(64, (3, 3), activation='linear',padding='same'))\n",
    "fashion_model.add(LeakyReLU(alpha=0.1))\n",
    "fashion_model.add(MaxPooling2D(pool_size=(2, 2),padding='same'))\n",
    "# layer 3 = 128-3x3 filters\n",
    "fashion_model.add(Conv2D(128, (3, 3), activation='linear',padding='same'))\n",
    "fashion_model.add(LeakyReLU(alpha=0.1))\n",
    "fashion_model.add(MaxPooling2D(pool_size=(2, 2),padding='same'))\n",
    "# flatten, dense layer, activation (ReLU), output\n",
    "fashion_model.add(Flatten())\n",
    "fashion_model.add(Dense(128, activation='linear'))\n",
    "fashion_model.add(LeakyReLU(alpha=0.1))\n",
    "fashion_model.add(Dense(num_classes, activation='softmax'))\n",
    "\n",
    "# visualize the model\n",
    "print(fashion_model.summary())"
   ]
  },
  {
   "cell_type": "code",
   "execution_count": 11,
   "metadata": {},
   "outputs": [
    {
     "name": "stdout",
     "output_type": "stream",
     "text": [
      "Train on 48000 samples, validate on 12000 samples\n",
      "Epoch 1/10\n",
      "48000/48000 [==============================] - 66s 1ms/step - loss: 0.4544 - accuracy: 0.8350 - val_loss: 0.3416 - val_accuracy: 0.8755\n",
      "Epoch 2/10\n",
      "48000/48000 [==============================] - 73s 2ms/step - loss: 0.2888 - accuracy: 0.8941 - val_loss: 0.2706 - val_accuracy: 0.8984\n",
      "Epoch 3/10\n",
      "48000/48000 [==============================] - 72s 1ms/step - loss: 0.2421 - accuracy: 0.9110 - val_loss: 0.2485 - val_accuracy: 0.9078\n",
      "Epoch 4/10\n",
      "48000/48000 [==============================] - 68s 1ms/step - loss: 0.2063 - accuracy: 0.9248 - val_loss: 0.2444 - val_accuracy: 0.9118\n",
      "Epoch 5/10\n",
      "48000/48000 [==============================] - 64s 1ms/step - loss: 0.1820 - accuracy: 0.9325 - val_loss: 0.2277 - val_accuracy: 0.9170\n",
      "Epoch 6/10\n",
      "48000/48000 [==============================] - 68s 1ms/step - loss: 0.1585 - accuracy: 0.9406 - val_loss: 0.2363 - val_accuracy: 0.9170\n",
      "Epoch 7/10\n",
      "48000/48000 [==============================] - 65s 1ms/step - loss: 0.1373 - accuracy: 0.9495 - val_loss: 0.2378 - val_accuracy: 0.9183\n",
      "Epoch 8/10\n",
      "48000/48000 [==============================] - 70s 1ms/step - loss: 0.1200 - accuracy: 0.9554 - val_loss: 0.2486 - val_accuracy: 0.9207\n",
      "Epoch 9/10\n",
      "48000/48000 [==============================] - 70s 1ms/step - loss: 0.1019 - accuracy: 0.9614 - val_loss: 0.2443 - val_accuracy: 0.9230\n",
      "Epoch 10/10\n",
      "48000/48000 [==============================] - 71s 1ms/step - loss: 0.0872 - accuracy: 0.9674 - val_loss: 0.2594 - val_accuracy: 0.9208\n"
     ]
    }
   ],
   "source": [
    "# compile the model\n",
    "fashion_model.compile(loss=keras.losses.categorical_crossentropy,\n",
    "                      optimizer=keras.optimizers.Adam(),\n",
    "                      metrics=['accuracy'])\n",
    "\n",
    "# train the model\n",
    "fashion_train = fashion_model.fit(train_X,\n",
    "                                  train_label,\n",
    "                                  batch_size=batch_size,\n",
    "                                  epochs=epochs,\n",
    "                                  verbose=1,\n",
    "                                  validation_data=(valid_X, valid_label))"
   ]
  },
  {
   "cell_type": "code",
   "execution_count": 12,
   "metadata": {},
   "outputs": [
    {
     "name": "stdout",
     "output_type": "stream",
     "text": [
      "Test loss: 0.27739162355363367\n",
      "Test accuracy: 0.9146999716758728\n"
     ]
    }
   ],
   "source": [
    "# model evaluation on test set\n",
    "test_eval = fashion_model.evaluate(test_X,\n",
    "                                   test_Y_one_hot,\n",
    "                                   verbose=0)\n",
    "\n",
    "print('Test loss:', test_eval[0])\n",
    "print('Test accuracy:', test_eval[1])"
   ]
  },
  {
   "cell_type": "code",
   "execution_count": 30,
   "metadata": {},
   "outputs": [
    {
     "data": {
      "image/png": "[encoded data removed]",
      "text/plain": [
       "<Figure size 1080x360 with 1 Axes>"
      ]
     },
     "metadata": {
      "needs_background": "light"
     },
     "output_type": "display_data"
    },
    {
     "data": {
      "text/plain": [
       "<Figure size 432x288 with 0 Axes>"
      ]
     },
     "metadata": {},
     "output_type": "display_data"
    }
   ],
   "source": [
    "# performance in valdiation and test set\n",
    "\n",
    "for metrica in metricas:\n",
    "    met = fashion_train.history[metrica]\n",
    "    val_met = fashion_train_dropout.history['val_'+metrica]\n",
    "    epochs = range(len(met))\n",
    "    plt.figure(figsize=(15,5))\n",
    "    plt.plot(epochs, met, 'b', c='orange', label='Training '+metrica,lw=1)\n",
    "    plt.plot(epochs, val_met, 'b', c='green', label='Validation '+metrica,lw=1)\n",
    "    plt.title('Training and validation '+metrica)\n",
    "    plt.legend(loc='center left')\n",
    "    plt.figure()"
   ]
  },
  {
   "cell_type": "markdown",
   "metadata": {},
   "source": [
    "## 2.2. Model 2 (With Drop-Out)"
   ]
  },
  {
   "cell_type": "code",
   "execution_count": 14,
   "metadata": {},
   "outputs": [
    {
     "name": "stdout",
     "output_type": "stream",
     "text": [
      "Model: \"sequential_2\"\n",
      "_________________________________________________________________\n",
      "Layer (type)                 Output Shape              Param #   \n",
      "=================================================================\n",
      "conv2d_4 (Conv2D)            (None, 28, 28, 32)        320       \n",
      "_________________________________________________________________\n",
      "leaky_re_lu_5 (LeakyReLU)    (None, 28, 28, 32)        0         \n",
      "_________________________________________________________________\n",
      "max_pooling2d_4 (MaxPooling2 (None, 14, 14, 32)        0         \n",
      "_________________________________________________________________\n",
      "dropout_1 (Dropout)          (None, 14, 14, 32)        0         \n",
      "_________________________________________________________________\n",
      "conv2d_5 (Conv2D)            (None, 14, 14, 64)        18496     \n",
      "_________________________________________________________________\n",
      "leaky_re_lu_6 (LeakyReLU)    (None, 14, 14, 64)        0         \n",
      "_________________________________________________________________\n",
      "max_pooling2d_5 (MaxPooling2 (None, 7, 7, 64)          0         \n",
      "_________________________________________________________________\n",
      "dropout_2 (Dropout)          (None, 7, 7, 64)          0         \n",
      "_________________________________________________________________\n",
      "conv2d_6 (Conv2D)            (None, 7, 7, 128)         73856     \n",
      "_________________________________________________________________\n",
      "leaky_re_lu_7 (LeakyReLU)    (None, 7, 7, 128)         0         \n",
      "_________________________________________________________________\n",
      "max_pooling2d_6 (MaxPooling2 (None, 4, 4, 128)         0         \n",
      "_________________________________________________________________\n",
      "dropout_3 (Dropout)          (None, 4, 4, 128)         0         \n",
      "_________________________________________________________________\n",
      "flatten_2 (Flatten)          (None, 2048)              0         \n",
      "_________________________________________________________________\n",
      "dense_3 (Dense)              (None, 128)               262272    \n",
      "_________________________________________________________________\n",
      "leaky_re_lu_8 (LeakyReLU)    (None, 128)               0         \n",
      "_________________________________________________________________\n",
      "dropout_4 (Dropout)          (None, 128)               0         \n",
      "_________________________________________________________________\n",
      "dense_4 (Dense)              (None, 10)                1290      \n",
      "=================================================================\n",
      "Total params: 356,234\n",
      "Trainable params: 356,234\n",
      "Non-trainable params: 0\n",
      "_________________________________________________________________\n",
      "None\n"
     ]
    }
   ],
   "source": [
    "# parameters\n",
    "batch_size = 64\n",
    "epochs = 10\n",
    "num_classes = 10\n",
    "\n",
    "# architecture: 3 layers\n",
    "# 1st layer = 32-3 x 3 filters\n",
    "# 2nd layer = 64-3 x 3 filters\n",
    "# 3rd layer = 128-3 x 3 filters\n",
    "\n",
    "# structure: layer, activation (Leaky ReLU, max-pooling (2x2), drop-out\n",
    "\n",
    "# sequential\n",
    "fashion_model = Sequential()\n",
    "# layer 1 = 32-3 x 3\n",
    "fashion_model.add(Conv2D(32, kernel_size=(3, 3),activation='linear',padding='same',input_shape=(28,28,1)))\n",
    "fashion_model.add(LeakyReLU(alpha=0.1))\n",
    "fashion_model.add(MaxPooling2D((2, 2),padding='same'))\n",
    "fashion_model.add(Dropout(0.25))\n",
    "# layer 2 = 64-3 x 3\n",
    "fashion_model.add(Conv2D(64, (3, 3), activation='linear',padding='same'))\n",
    "fashion_model.add(LeakyReLU(alpha=0.1))\n",
    "fashion_model.add(MaxPooling2D(pool_size=(2, 2),padding='same'))\n",
    "fashion_model.add(Dropout(0.25))\n",
    "# layer 3 = 128-3 x 3\n",
    "fashion_model.add(Conv2D(128, (3, 3), activation='linear',padding='same'))\n",
    "fashion_model.add(LeakyReLU(alpha=0.1))                  \n",
    "fashion_model.add(MaxPooling2D(pool_size=(2, 2),padding='same'))\n",
    "fashion_model.add(Dropout(0.4))\n",
    "# flatten, dense layer, activation (ReLU), output\n",
    "fashion_model.add(Flatten())\n",
    "fashion_model.add(Dense(128, activation='linear'))\n",
    "fashion_model.add(LeakyReLU(alpha=0.1))           \n",
    "fashion_model.add(Dropout(0.3))\n",
    "fashion_model.add(Dense(num_classes, activation='softmax'))\n",
    "\n",
    "# visualize the model\n",
    "print(fashion_model.summary())"
   ]
  },
  {
   "cell_type": "code",
   "execution_count": 16,
   "metadata": {},
   "outputs": [
    {
     "name": "stdout",
     "output_type": "stream",
     "text": [
      "Train on 48000 samples, validate on 12000 samples\n",
      "Epoch 1/10\n",
      "48000/48000 [==============================] - 74s 2ms/step - loss: 0.3253 - accuracy: 0.8795 - val_loss: 0.2879 - val_accuracy: 0.8917\n",
      "Epoch 2/10\n",
      "48000/48000 [==============================] - 80s 2ms/step - loss: 0.2937 - accuracy: 0.8927 - val_loss: 0.2532 - val_accuracy: 0.9067\n",
      "Epoch 3/10\n",
      "48000/48000 [==============================] - 84s 2ms/step - loss: 0.2786 - accuracy: 0.8960 - val_loss: 0.2547 - val_accuracy: 0.9070\n",
      "Epoch 4/10\n",
      "48000/48000 [==============================] - 83s 2ms/step - loss: 0.2646 - accuracy: 0.8999 - val_loss: 0.2414 - val_accuracy: 0.9137\n",
      "Epoch 5/10\n",
      "48000/48000 [==============================] - 99s 2ms/step - loss: 0.2521 - accuracy: 0.9065 - val_loss: 0.2292 - val_accuracy: 0.9151\n",
      "Epoch 6/10\n",
      "48000/48000 [==============================] - 97s 2ms/step - loss: 0.2455 - accuracy: 0.9082 - val_loss: 0.2305 - val_accuracy: 0.9139\n",
      "Epoch 7/10\n",
      "48000/48000 [==============================] - 92s 2ms/step - loss: 0.2393 - accuracy: 0.9100 - val_loss: 0.2247 - val_accuracy: 0.9162\n",
      "Epoch 8/10\n",
      "48000/48000 [==============================] - 79s 2ms/step - loss: 0.2292 - accuracy: 0.9137 - val_loss: 0.2234 - val_accuracy: 0.9190ss: 0\n",
      "Epoch 9/10\n",
      "48000/48000 [==============================] - 77s 2ms/step - loss: 0.2228 - accuracy: 0.9166 - val_loss: 0.2161 - val_accuracy: 0.9202\n",
      "Epoch 10/10\n",
      "48000/48000 [==============================] - 83s 2ms/step - loss: 0.2222 - accuracy: 0.9171 - val_loss: 0.2222 - val_accuracy: 0.9195\n"
     ]
    }
   ],
   "source": [
    "# compile the model\n",
    "metricas = ['accuracy']\n",
    "fashion_model.compile(loss=keras.losses.categorical_crossentropy,\n",
    "                      optimizer=keras.optimizers.Adam(),\n",
    "                      metrics=metricas)\n",
    "\n",
    "# train the model\n",
    "fashion_train_dropout = fashion_model.fit(train_X,\n",
    "                                          train_label,\n",
    "                                          batch_size=batch_size,\n",
    "                                          epochs=epochs,\n",
    "                                          verbose=1,\n",
    "                                          validation_data=(valid_X, valid_label))\n",
    "\n",
    "# save\n",
    "#fashion_model.save('model.h5')\n",
    "\n",
    "# load model\n",
    "#model = keras.models.load_model('model.h5')"
   ]
  },
  {
   "cell_type": "markdown",
   "metadata": {},
   "source": [
    "# 3. Evaluating performance\n",
    "\n",
    "## 3.1. Loss and accuracy"
   ]
  },
  {
   "cell_type": "code",
   "execution_count": 17,
   "metadata": {},
   "outputs": [
    {
     "name": "stdout",
     "output_type": "stream",
     "text": [
      "10000/10000 [==============================] - 4s 385us/step\n",
      "Test loss: 0.2307192940235138\n",
      "Test accuracy: 0.9164999723434448\n"
     ]
    }
   ],
   "source": [
    "# test set final loss and accuracy\n",
    "test_eval = fashion_model.evaluate(test_X,\n",
    "                                   test_Y_one_hot,\n",
    "                                   verbose=1)\n",
    "\n",
    "print('Test loss:', test_eval[0])\n",
    "print('Test accuracy:', test_eval[1])"
   ]
  },
  {
   "cell_type": "code",
   "execution_count": 33,
   "metadata": {},
   "outputs": [
    {
     "data": {
      "image/png": "[encoded data removed]",
      "text/plain": [
       "<Figure size 1080x360 with 1 Axes>"
      ]
     },
     "metadata": {
      "needs_background": "light"
     },
     "output_type": "display_data"
    },
    {
     "data": {
      "text/plain": [
       "<Figure size 432x288 with 0 Axes>"
      ]
     },
     "metadata": {},
     "output_type": "display_data"
    }
   ],
   "source": [
    "# performance in valdiation and test set\n",
    "\n",
    "for metrica in metricas:\n",
    "    met = fashion_train_dropout.history[metrica]\n",
    "    val_met = fashion_train_dropout.history['val_'+metrica]\n",
    "    epochs = range(len(met))\n",
    "    plt.figure(figsize=(15,5))\n",
    "    plt.plot(epochs, met, 'b', c='orange', label='Training '+metrica,lw=1)\n",
    "    plt.plot(epochs, val_met, 'b', c='green', label='Validation '+metrica,lw=1)\n",
    "    plt.title('Training and validation '+metrica)\n",
    "    plt.legend(loc='center left')\n",
    "    plt.figure()"
   ]
  },
  {
   "cell_type": "markdown",
   "metadata": {},
   "source": [
    "## 3.2. Hit and miss analysis"
   ]
  },
  {
   "cell_type": "code",
   "execution_count": 24,
   "metadata": {},
   "outputs": [
    {
     "name": "stdout",
     "output_type": "stream",
     "text": [
      "(10000,)\n",
      "(10000,)\n"
     ]
    }
   ],
   "source": [
    "# predicted class = most likely (MECE)\n",
    "predicted_classes = fashion_model.predict(test_X)\n",
    "predicted_classes = np.argmax(np.round(predicted_classes),axis=1)\n",
    "\n",
    "print(predicted_classes.shape)\n",
    "print(test_Y.shape)"
   ]
  },
  {
   "cell_type": "code",
   "execution_count": 28,
   "metadata": {},
   "outputs": [
    {
     "name": "stdout",
     "output_type": "stream",
     "text": [
      "Found 9147 correct labels\n"
     ]
    },
    {
     "data": {
      "image/png": "[encoded data removed]",
      "text/plain": [
       "<Figure size 432x288 with 9 Axes>"
      ]
     },
     "metadata": {
      "needs_background": "light"
     },
     "output_type": "display_data"
    }
   ],
   "source": [
    "# correct classification examples\n",
    "correct = np.where(predicted_classes==test_Y)[0]\n",
    "\n",
    "print(\"Found {} correct labels\".format(len(correct)))\n",
    "for i, correct in enumerate(correct[:9]):\n",
    "    plt.subplot(3,3,i+1)\n",
    "    plt.imshow(test_X[correct].reshape(28,28), cmap='gray', interpolation='none')\n",
    "    plt.title(\"Predicted {}, Class {}\".format(predicted_classes[correct], test_Y[correct]))\n",
    "    plt.tight_layout()"
   ]
  },
  {
   "cell_type": "code",
   "execution_count": 29,
   "metadata": {},
   "outputs": [
    {
     "name": "stdout",
     "output_type": "stream",
     "text": [
      "Found 853 incorrect labels\n"
     ]
    },
    {
     "data": {
      "image/png": "[encoded data removed]",
      "text/plain": [
       "<Figure size 432x288 with 9 Axes>"
      ]
     },
     "metadata": {
      "needs_background": "light"
     },
     "output_type": "display_data"
    }
   ],
   "source": [
    "# incorrect classification examples\n",
    "incorrect = np.where(predicted_classes!=test_Y)[0]\n",
    "\n",
    "print(\"Found {} incorrect labels\".format(len(incorrect)))\n",
    "for i, incorrect in enumerate(incorrect[:9]):\n",
    "    plt.subplot(3,3,i+1)\n",
    "    plt.imshow(test_X[incorrect].reshape(28,28), cmap='gray', interpolation='none')\n",
    "    plt.title(\"Predicted {}, Class {}\".format(predicted_classes[incorrect], test_Y[incorrect]))\n",
    "    plt.tight_layout()"
   ]
  },
  {
   "cell_type": "markdown",
   "metadata": {},
   "source": [
    "# 3.3. Precision and recall analysis"
   ]
  },
  {
   "cell_type": "code",
   "execution_count": 27,
   "metadata": {},
   "outputs": [
    {
     "name": "stdout",
     "output_type": "stream",
     "text": [
      "              precision    recall  f1-score   support\n",
      "\n",
      "     Class 0       0.77      0.91      0.83      1000\n",
      "     Class 1       0.99      0.98      0.99      1000\n",
      "     Class 2       0.88      0.88      0.88      1000\n",
      "     Class 3       0.92      0.91      0.92      1000\n",
      "     Class 4       0.87      0.87      0.87      1000\n",
      "     Class 5       0.99      0.99      0.99      1000\n",
      "     Class 6       0.82      0.70      0.75      1000\n",
      "     Class 7       0.95      0.98      0.96      1000\n",
      "     Class 8       0.99      0.98      0.99      1000\n",
      "     Class 9       0.98      0.95      0.97      1000\n",
      "\n",
      "    accuracy                           0.91     10000\n",
      "   macro avg       0.92      0.91      0.91     10000\n",
      "weighted avg       0.92      0.91      0.91     10000\n",
      "\n"
     ]
    }
   ],
   "source": [
    "target_names = [\"Class {}\".format(i) for i in range(num_classes)]\n",
    "print(classification_report(test_Y, predicted_classes, target_names=target_names))"
   ]
  }
 ],
 "metadata": {
  "kernelspec": {
   "display_name": "Python 3",
   "language": "python",
   "name": "python3"
  },
  "language_info": {
   "codemirror_mode": {
    "name": "ipython",
    "version": 3
   },
   "file_extension": ".py",
   "mimetype": "text/x-python",
   "name": "python",
   "nbconvert_exporter": "python",
   "pygments_lexer": "ipython3",
   "version": "3.7.4"
  }
 },
 "nbformat": 4,
 "nbformat_minor": 4
}
