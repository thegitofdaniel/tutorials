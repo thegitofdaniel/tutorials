{
 "cells": [
  {
   "cell_type": "code",
   "execution_count": 13,
   "metadata": {},
   "outputs": [],
   "source": [
    "import numpy as np\n",
    "\n",
    "import torch"
   ]
  },
  {
   "cell_type": "code",
   "execution_count": 39,
   "metadata": {},
   "outputs": [
    {
     "name": "stdout",
     "output_type": "stream",
     "text": [
      "tensor([[0., 0., 0.]])\n",
      "tensor([[1., 1., 1.]])\n",
      "tensor([ 0,  2,  4,  6,  8, 10, 12, 14, 16, 18])\n",
      "tensor([[0.2060, 0.6301, 0.9364]])\n",
      "tensor([[ 0.6524, -1.9594,  1.2824]])\n",
      "tensor([[0.9760, 0.6842, 0.7096]], dtype=torch.float64)\n"
     ]
    }
   ],
   "source": [
    "# Building a Tensor\n",
    "\n",
    "# Zeros\n",
    "print(torch.zeros(1, 3))\n",
    "\n",
    "# Ones\n",
    "print(torch.ones(1, 3))\n",
    "\n",
    "# Range\n",
    "print(torch.arange(0,20,2))\n",
    "\n",
    "# Random Uniform\n",
    "print(torch.rand(1, 3))\n",
    "\n",
    "# Random Normal\n",
    "print(torch.randn(1, 3))\n",
    "\n",
    "# From Numpy\n",
    "print(torch.from_numpy(np.random.rand(1,3)))"
   ]
  },
  {
   "cell_type": "code",
   "execution_count": 83,
   "metadata": {},
   "outputs": [
    {
     "name": "stdout",
     "output_type": "stream",
     "text": [
      "tensor([[-0.3333],\n",
      "        [ 0.9970],\n",
      "        [-0.3619]])\n",
      "torch.Size([3, 1])\n",
      "torch.Size([3, 1])\n",
      "torch.FloatTensor\n",
      "tensor([[-0.3333],\n",
      "        [ 0.9970],\n",
      "        [-0.3619]])\n",
      "tensor([0.3017])\n",
      "tensor([-0.3333,  0.9970, -0.3619])\n",
      "tensor([[5.],\n",
      "        [5.],\n",
      "        [5.]])\n",
      "tensor([[5., 5., 5.]])\n"
     ]
    }
   ],
   "source": [
    "# Operations with One Tensor\n",
    "\n",
    "x = torch.randn(3,1)\n",
    "print(x)\n",
    "\n",
    "# Size\n",
    "print(x.size())\n",
    "print(x.shape)\n",
    "\n",
    "# Type\n",
    "print(x.type())\n",
    "\n",
    "# View\n",
    "print(x.view(3,1))\n",
    "\n",
    "# Sum\n",
    "print(torch.sum(x, dim=0))\n",
    "print(torch.sum(x, dim=1))\n",
    "\n",
    "# Fill\n",
    "print(x.fill_(5))\n",
    "\n",
    "# Transposing\n",
    "# if the vector has only one dimension declared, it cannot be transposed\n",
    "print(torch.transpose(x,0,1))"
   ]
  },
  {
   "cell_type": "code",
   "execution_count": 73,
   "metadata": {},
   "outputs": [
    {
     "name": "stdout",
     "output_type": "stream",
     "text": [
      "tensor([-1.4989, -0.8321, -0.1773])\n",
      "tensor([-0.4894, -0.7904,  0.0652])\n",
      "tensor([-1.9883, -1.6225, -0.1121])\n",
      "tensor([-1.0095, -0.0417, -0.2425])\n",
      "tensor([ 0.7336,  0.6577, -0.0116])\n",
      "tensor([ 3.0627,  1.0527, -2.7179])\n",
      "tensor([ 3.,  1., -2.])\n",
      "tensor([-0.0307, -0.0417,  0.0184])\n"
     ]
    }
   ],
   "source": [
    "# Operations with Two Tensors\n",
    "\n",
    "x = torch.randn(3)\n",
    "y = torch.randn(3)\n",
    "\n",
    "print(x)\n",
    "print(y)\n",
    "\n",
    "print(x + y)\n",
    "print(x - y)\n",
    "print(x * y)\n",
    "print(x / y)\n",
    "print(x // y)\n",
    "print(x % y)"
   ]
  },
  {
   "cell_type": "code",
   "execution_count": 96,
   "metadata": {},
   "outputs": [
    {
     "name": "stdout",
     "output_type": "stream",
     "text": [
      "tensor([[-1.4362,  0.0848,  0.1389, -0.0744, -1.7255],\n",
      "        [-0.8913, -0.2077,  0.3700, -0.7531,  0.4664],\n",
      "        [-0.0087,  0.7635, -0.1706, -1.0538, -1.3968],\n",
      "        [ 1.3717,  0.1266,  0.8154, -0.6864, -1.3161],\n",
      "        [-3.2332,  0.1130,  0.4104,  1.3040,  1.3087]])\n",
      "tensor([[ 1.0163,  0.4716,  1.4737,  1.3516, -0.1554],\n",
      "        [-0.5986, -0.5914,  0.3905, -0.0702,  0.6813],\n",
      "        [ 0.9357, -2.3559, -1.4715,  1.3561, -1.4806],\n",
      "        [-0.1969, -1.4514,  0.9842, -0.4019,  0.6894],\n",
      "        [ 0.5601, -1.5214,  0.6925, -0.3088, -0.2584],\n",
      "        [ 1.5533,  0.1385,  1.6722,  0.0848, -0.0744],\n",
      "        [ 1.1507, -0.1576, -0.1645, -0.2077, -0.7531],\n",
      "        [ 2.1669,  0.4073, -1.0519,  0.7635, -1.0538],\n",
      "        [ 0.0026,  0.7550,  0.4742,  0.1266, -0.6864],\n",
      "        [ 0.8898, -0.6995,  1.0804,  0.1130,  1.3040]])\n"
     ]
    }
   ],
   "source": [
    "# Indexing\n",
    "\n",
    "x = torch.randn(10, 10)\n",
    "\n",
    "# Continuous\n",
    "print(x[5:,5:])\n",
    "\n",
    "# Non-Continuous\n",
    "sup_row = torch.arange(0,10,2)\n",
    "sup_col = torch.arange(0,10,2)\n",
    "\n",
    "#print(x[sup_row,sup_col])\n",
    "\n",
    "print(torch.index_select(x, dim=1, index=sup))"
   ]
  }
 ],
 "metadata": {
  "kernelspec": {
   "display_name": "Python 3",
   "language": "python",
   "name": "python3"
  },
  "language_info": {
   "codemirror_mode": {
    "name": "ipython",
    "version": 3
   },
   "file_extension": ".py",
   "mimetype": "text/x-python",
   "name": "python",
   "nbconvert_exporter": "python",
   "pygments_lexer": "ipython3",
   "version": "3.7.1"
  }
 },
 "nbformat": 4,
 "nbformat_minor": 2
}
