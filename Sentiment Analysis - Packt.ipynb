{
 "cells": [
  {
   "cell_type": "markdown",
   "metadata": {},
   "source": [
    "Daniel Rocha Ruiz, MSc in Data Science and Business Analytics"
   ]
  },
  {
   "cell_type": "markdown",
   "metadata": {},
   "source": [
    "# Sentiment Analysis in Python\n",
    "\n",
    "Tutorial extracted from Packt\n",
    "- https://hub.packtpub.com/how-to-perform-sentiment-analysis-using-python-tutorial/\n",
    "- The idea of conducting a sentiment analysis sounds very sophisticated, but this tutorial is fairly simple. 'Sentiments' are defined a-priori: you are given a dataset with reviews and their sentiment (positive or negative). Your only task is to create a classifier calibrated, i.e. a function that reads reviews and attributes one of the possible sentiments. The classifier should be calibrated on training data, validated on test data, and used to classify new data. "
   ]
  },
  {
   "cell_type": "code",
   "execution_count": 1,
   "metadata": {},
   "outputs": [],
   "source": [
    "# 1) Import Packages\n",
    "\n",
    "import nltk.classify.util\n",
    "from nltk.classify import NaiveBayesClassifier\n",
    "from nltk.corpus import movie_reviews"
   ]
  },
  {
   "cell_type": "code",
   "execution_count": 2,
   "metadata": {},
   "outputs": [],
   "source": [
    "# 2) Extract Features\n",
    "\n",
    "def extract_features(word_list):\n",
    "    return dict([(word, True) for word in word_list])"
   ]
  },
  {
   "cell_type": "code",
   "execution_count": 4,
   "metadata": {},
   "outputs": [],
   "source": [
    "# 3) Load Positive and Negative Reviews\n",
    "\n",
    "if __name__=='__main__':\n",
    "    positive_fileids = movie_reviews.fileids('pos')\n",
    "    negative_fileids = movie_reviews.fileids('neg')\n",
    "    \n"
   ]
  },
  {
   "cell_type": "code",
   "execution_count": 4,
   "metadata": {},
   "outputs": [
    {
     "name": "stdout",
     "output_type": "stream",
     "text": [
      "will hunting ( matt damon ) is a natural genius . \n",
      "for a movie character , that's usually a death sentence . \n",
      "it's a trait associated with what my brother calls \" too good for this world \" movies , like phenomenon or powder . \n",
      "forgive me for spoiling the ending , but will doesn't die . \n",
      "this is no formula movie . \n",
      "in fact , it's quite fresh and original . \n",
      "it's a character study more than anything , and that's not surprising , considering it was written by two actors : damon and co-star ben affleck . \n",
      "will works whatever kind of job he can get . \n",
      "first he's a janitor , then he works construction . \n",
      "off-screen he speed reads books on any academic subject that interests him . \n",
      "on-screen he hangs out with his friends , picking fights in robust , romanticized-hemingway fashion . \n",
      "lambeau ( stellan skarsgard from breaking the waves ) , a math professor , learns that the janitor ( will ) is a genius with a special talent for advanced mathematics . \n",
      "having confirmed he's not a fluke or a savant , he does what he can to get will into the education system . \n",
      "he is firmly rejected . \n",
      "finally , will lands in jail for one of his fights . \n",
      "lambeau can get him probation instead of prison time as long as will agrees to therapy sessions and to discussing mathematics with him . \n",
      "will ( barely ) decides to go for the therapy over prison . \n",
      "lambeau treats will like a son . \n",
      "he's proud of , and amazed by , will's accomplishments in mathematics . \n",
      "he encourages will and tries to give him structure , knowing that , with a little discipline , he could be bigger than einstein . \n",
      "will isn't really interested in academia . \n",
      "he knows he would be the best in his field , and therefore spend all of his time in an office , explaining math to people like lambeau . \n",
      "he would rather work construction , which breaks lambeau's heart . \n",
      "meanwhile , will attends his mandated therapy sessions . \n",
      "it's not long before he shreds all the therapists on lambeau's \" a \" list . \n",
      "will has read enough psychology to know the tricks of the trade , and how to keep them from affecting him . \n",
      "shrink after shrink refuses to return after will's mockery . \n",
      "lambeau's last hope is his old college roommate , now a psychology teacher at a small-time community college . \n",
      "knowing that will is going to try to shred him too , sean ( robin williams ) agrees to take him on as a favor to lambeau and for the chance to meet this next einstein . \n",
      "true to form , will finds sean's emotional weakness and attacks . \n",
      "but unlike the other shrinks , sean knows what he is in for and continues the sessions . \n",
      "like a foster mother with a fussy child , sean knows that the attacks are defensive and is able to take them in stride . \n",
      "like the foster mother , sean knows that time and quiet patience is the only approach . \n",
      "robin williams is excellent in this role . \n",
      "he's not an actor with a great range , but in the right roles he has great depth . \n",
      "in this movie , as in awakenings , there comes a point when the quiet , shy man accomplishes something of great personal importance , and a smile of pure joy spreads up to his eyes . \n",
      "williams is the only actor i can name who can make an audience cry just by smiling . \n",
      "i have compared will to a foster child and that's not entirely fair . \n",
      "emotionally , he has a lot to learn , but he is not a child . \n",
      "he has thought about his life and made rational decisions about what he wants . \n",
      "sean , his girlfriend , his pals , and lambeau all help him grow , but he didn't start out asking for , or particularly needing , help . \n",
      "his exceptional gift singled him out , and those who love him kept pushing him in the right direction . \n",
      "if i had to say anything bad about good will hunting is that it walks the line between drama and melodrama . \n",
      "it's too sentimental and uplifiting for a straight drama , but the emotions are too subtle for melodrama . \n",
      "it is emotionally engaging , but it's not quite larger than life . \n",
      "this isn't a problem per se , but at times i didn't know quite how to take it . \n",
      "but this is a relatively small complaint about a very good movie . \n",
      "a good movie allows its characters to learn and grow . \n",
      "it doesn't just happen ; it takes a good script , good acting , and good direction . \n",
      "good will hunting has all three . \n",
      "if you are at all inclined to see it , by all means , go . \n",
      "\n"
     ]
    }
   ],
   "source": [
    "# 4) Separate Positive and Negative Reviews\n",
    "\n",
    "features_positive = [(extract_features(movie_reviews.words(fileids=[f])),'Positive') for f in positive_fileids]\n",
    "features_negative = [(extract_features(movie_reviews.words(fileids=[f])),'Negative') for f in negative_fileids]\n",
    "\n",
    "# print sample movie review\n",
    "print(movie_reviews.raw(fileids=[positive_fileids[42]]))"
   ]
  },
  {
   "cell_type": "code",
   "execution_count": 5,
   "metadata": {},
   "outputs": [],
   "source": [
    "# 5) Determine a Threshold for Train-Test Split\n",
    "\n",
    "threshold_factor = 0.75\n",
    "threshold_positive = int(threshold_factor * len(features_positive))\n",
    "threshold_negative = int(threshold_factor * len(features_negative))"
   ]
  },
  {
   "cell_type": "code",
   "execution_count": 6,
   "metadata": {},
   "outputs": [
    {
     "name": "stdout",
     "output_type": "stream",
     "text": [
      "Number of training datapoints: 1500\n",
      "Number of test datapoints: 500\n"
     ]
    }
   ],
   "source": [
    "# 6) Split the Training and Test Set\n",
    "\n",
    "features_train = features_positive[:threshold_positive] + features_negative[:threshold_negative]\n",
    "features_test = features_positive[threshold_positive:] + features_negative[threshold_negative:]  \n",
    "\n",
    "print(\"Number of training datapoints:\", len(features_train))\n",
    "print(\"Number of test datapoints:\", len(features_test))"
   ]
  },
  {
   "cell_type": "code",
   "execution_count": 7,
   "metadata": {},
   "outputs": [
    {
     "name": "stdout",
     "output_type": "stream",
     "text": [
      "\n",
      "Accuracy of the classifier: 0.728\n"
     ]
    }
   ],
   "source": [
    "# 7) Train a Classifier (here we use a Bayesian Classifier)\n",
    "\n",
    "classifier = NaiveBayesClassifier.train(features_train)\n",
    "\n",
    "print(\"\\nAccuracy of the classifier:\", nltk.classify.util.accuracy(classifier, features_test))"
   ]
  },
  {
   "cell_type": "code",
   "execution_count": 8,
   "metadata": {},
   "outputs": [
    {
     "name": "stdout",
     "output_type": "stream",
     "text": [
      "\n",
      "Top 10 most informative words:\n",
      "\n",
      "Most Informative Features\n",
      "             magnificent = True           Positi : Negati =     15.0 : 1.0\n",
      "             outstanding = True           Positi : Negati =     13.6 : 1.0\n",
      "               insulting = True           Negati : Positi =     13.0 : 1.0\n",
      "              vulnerable = True           Positi : Negati =     12.3 : 1.0\n",
      "               ludicrous = True           Negati : Positi =     11.8 : 1.0\n",
      "                  avoids = True           Positi : Negati =     11.7 : 1.0\n",
      "             uninvolving = True           Negati : Positi =     11.7 : 1.0\n",
      "              astounding = True           Positi : Negati =     10.3 : 1.0\n",
      "             fascination = True           Positi : Negati =     10.3 : 1.0\n",
      "                 idiotic = True           Negati : Positi =      9.8 : 1.0\n"
     ]
    }
   ],
   "source": [
    "# 8) Print the 10 most informative words\n",
    "\n",
    "print(\"\\nTop 10 most informative words:\\n\")\n",
    "\n",
    "classifier.show_most_informative_features(10)"
   ]
  },
  {
   "cell_type": "code",
   "execution_count": 9,
   "metadata": {},
   "outputs": [],
   "source": [
    "# 9) Create New Data\n",
    "\n",
    "input_reviews = [\"It is an amazing movie\", \n",
    "                 \"This is a dull movie. I would never recommend it to anyone.\",\n",
    "                 \"The cinematography is pretty great in this movie\", \n",
    "                 \"The direction was terrible and the story was all over the place\"]"
   ]
  },
  {
   "cell_type": "code",
   "execution_count": 10,
   "metadata": {},
   "outputs": [
    {
     "name": "stdout",
     "output_type": "stream",
     "text": [
      "\n",
      "Predictions:\n",
      "\n",
      "Review: It is an amazing movie\n",
      "Predicted sentiment: Positive\n",
      "Probability: 0.61\n",
      "\n",
      "Review: This is a dull movie. I would never recommend it to anyone.\n",
      "Predicted sentiment: Negative\n",
      "Probability: 0.76\n",
      "\n",
      "Review: The cinematography is pretty great in this movie\n",
      "Predicted sentiment: Positive\n",
      "Probability: 0.7\n",
      "\n",
      "Review: The direction was terrible and the story was all over the place\n",
      "Predicted sentiment: Negative\n",
      "Probability: 0.64\n"
     ]
    }
   ],
   "source": [
    "# 10) Predict on the New Data\n",
    "\n",
    "print(\"\\nPredictions:\")\n",
    " \n",
    "for review in input_reviews:\n",
    "    print(\"\\nReview:\", review)\n",
    "    probdist = classifier.prob_classify(extract_features(review.split()))\n",
    "    pred_sentiment = probdist.max()\n",
    "    \n",
    "    print(\"Predicted sentiment:\", pred_sentiment)\n",
    "    print(\"Probability:\", round(probdist.prob(pred_sentiment), 2))"
   ]
  }
 ],
 "metadata": {
  "kernelspec": {
   "display_name": "Python 3",
   "language": "python",
   "name": "python3"
  },
  "language_info": {
   "codemirror_mode": {
    "name": "ipython",
    "version": 3
   },
   "file_extension": ".py",
   "mimetype": "text/x-python",
   "name": "python",
   "nbconvert_exporter": "python",
   "pygments_lexer": "ipython3",
   "version": "3.7.1"
  }
 },
 "nbformat": 4,
 "nbformat_minor": 2
}
