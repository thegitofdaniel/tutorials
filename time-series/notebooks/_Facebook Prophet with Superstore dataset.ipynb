{
 "cells": [
  {
   "cell_type": "markdown",
   "metadata": {},
   "source": [
    "Daniel Rocha Ruiz, MSc in Data Science and Business Analytics\n",
    "\n",
    "Source:\n",
    "- https://towardsdatascience.com/an-end-to-end-project-on-time-series-analysis-and-forecasting-with-python-4835e6bf050b\n",
    "\n",
    "# Set-up\n",
    "## Import packages\n",
    "\n",
    "Installing Prophet can be quite tricky\n",
    "- https://stackoverflow.com/questions/53178281/installing-fbprophet-python-on-windows-10?msclkid=c2c7badcd03b11ecbfda2a7e235e542f"
   ]
  },
  {
   "cell_type": "code",
   "execution_count": null,
   "metadata": {},
   "outputs": [],
   "source": [
    "from fbprophet import Prophet"
   ]
  },
  {
   "cell_type": "code",
   "execution_count": null,
   "metadata": {},
   "outputs": [],
   "source": [
    "import sys\n",
    "!{sys.executable} -m pip install fbprophet"
   ]
  },
  {
   "cell_type": "code",
   "execution_count": null,
   "metadata": {},
   "outputs": [],
   "source": [
    "import pandas as pd"
   ]
  },
  {
   "cell_type": "markdown",
   "metadata": {},
   "source": [
    "## Load data"
   ]
  },
  {
   "cell_type": "code",
   "execution_count": null,
   "metadata": {},
   "outputs": [],
   "source": [
    "# load data\n",
    "df = pd.read_excel(\"../data/Superstore.xls\")\n",
    "print(df.columns)"
   ]
  },
  {
   "cell_type": "markdown",
   "metadata": {},
   "source": [
    "## Prepare data"
   ]
  },
  {
   "cell_type": "code",
   "execution_count": null,
   "metadata": {},
   "outputs": [],
   "source": [
    "def prep_data(df, col):\n",
    "    \n",
    "    # select one category\n",
    "    new_df = df.loc[df['Category'] == col]\n",
    "\n",
    "    # only \"Order Date\" and \"Sales\" are kept\n",
    "    new_df = new_df[[\"Order Date\", \"Sales\"]]\n",
    "\n",
    "    # make date the index\n",
    "    new_df = new_df.sort_values('Order Date')\n",
    "    #furniture = furniture.set_index('Order Date')\n",
    "\n",
    "    # check if there are nulls\n",
    "    assert all(new_df.isnull().sum()==0)\n",
    "\n",
    "    # groupby, change index\n",
    "    new_df = new_df.groupby('Order Date')['Sales'].sum().reset_index()\n",
    "    new_df = new_df.set_index(\"Order Date\")\n",
    "    \n",
    "    # resample converts the display frequency of the data (e.g. week -> month)\n",
    "    # MS -> convert to Month Start\n",
    "    ts = new_df['Sales'].resample('MS').mean()\n",
    "        \n",
    "    return ts\n",
    "\n",
    "furniture = prep_data(df,\"Furniture\")\n",
    "print(furniture.shape)\n",
    "office = prep_data(df,\"Office Supplies\")\n",
    "print(office.shape)"
   ]
  },
  {
   "cell_type": "markdown",
   "metadata": {},
   "source": [
    "# Modelling\n",
    "## Furniture"
   ]
  },
  {
   "cell_type": "code",
   "execution_count": null,
   "metadata": {},
   "outputs": [],
   "source": [
    "## get data\n",
    "furniture = furniture.rename(columns={'Order Date': 'ds', 'Sales': 'y'})\n",
    "\n",
    "# train model\n",
    "furniture_model = Prophet(interval_width=0.95)\n",
    "furniture_model.fit(furniture)\n",
    "\n",
    "# plot componentes\n",
    "furniture_model.plot_components(furniture_forecast)\n",
    "\n",
    "# predict\n",
    "furniture_forecast = furniture_model.make_future_dataframe(periods=36, freq='MS')\n",
    "furniture_forecast = furniture_model.predict(furniture_forecast)\n",
    "\n",
    "# plot\n",
    "plt.figure(figsize=(18, 6))\n",
    "furniture_model.plot(furniture_forecast, xlabel = 'Date', ylabel = 'Sales')\n",
    "plt.title('Furniture Sales')\n",
    "plt.show()"
   ]
  },
  {
   "cell_type": "markdown",
   "metadata": {},
   "source": [
    "## Office-Supplies"
   ]
  },
  {
   "cell_type": "code",
   "execution_count": null,
   "metadata": {},
   "outputs": [],
   "source": [
    "# get data\n",
    "office = office.rename(columns={'Order Date': 'ds', 'Sales': 'y'})\n",
    "\n",
    "# train model\n",
    "office_model = Prophet(interval_width=0.95)\n",
    "office_model.fit(office)\n",
    "\n",
    "# plot componentes\n",
    "office_model.plot_components(office_forecast)\n",
    "\n",
    "# predict\n",
    "office_forecast = office_model.make_future_dataframe(periods=36, freq='MS')\n",
    "office_forecast = office_model.predict(office_forecast)\n",
    "\n",
    "# plot\n",
    "plt.figure(figsize=(18, 6))\n",
    "office_model.plot(office_forecast, xlabel = 'Date', ylabel = 'Sales')\n",
    "plt.title('Office Supplies Sales')\n",
    "plt.show()\n",
    "\n",
    "furniture_model.plot_components(furniture_forecast)"
   ]
  },
  {
   "cell_type": "markdown",
   "metadata": {},
   "source": [
    "## Compare series\n",
    "### Merge data"
   ]
  },
  {
   "cell_type": "code",
   "execution_count": null,
   "metadata": {},
   "outputs": [],
   "source": [
    "# prepare\n",
    "furniture_names = ['furniture_%s' % column for column in furniture_forecast.columns]\n",
    "office_names = ['office_%s' % column for column in office_forecast.columns]\n",
    "\n",
    "# merge\n",
    "merge_furniture_forecast = furniture_forecast.copy()\n",
    "merge_office_forecast = office_forecast.copy()\n",
    "merge_furniture_forecast.columns = furniture_names\n",
    "merge_office_forecast.columns = office_names\n",
    "\n",
    "# forecast\n",
    "forecast = pd.merge(merge_furniture_forecast, merge_office_forecast, how = 'inner', left_on = 'furniture_ds', right_on = 'office_ds')\n",
    "forecast = forecast.rename(columns={'furniture_ds': 'Date'}).drop('office_ds', axis=1)\n",
    "forecast.head()"
   ]
  },
  {
   "cell_type": "markdown",
   "metadata": {},
   "source": [
    "### Plot"
   ]
  },
  {
   "cell_type": "code",
   "execution_count": null,
   "metadata": {},
   "outputs": [],
   "source": [
    "# create image\n",
    "plt.figure(figsize=(10, 7))\n",
    "# plot series\n",
    "plt.plot(forecast['Date'], forecast['furniture_trend'], 'b-')\n",
    "plt.plot(forecast['Date'], forecast['office_trend'], 'r-')\n",
    "# other\n",
    "plt.legend()\n",
    "plt.xlabel('Date')\n",
    "plt.ylabel('Sales')\n",
    "plt.title('Furniture vs. Office Supplies Sales Trend')\n",
    "# plot\n",
    "plt.plot()"
   ]
  }
 ],
 "metadata": {
  "kernelspec": {
   "display_name": "fb_env",
   "language": "python",
   "name": "fb_env"
  },
  "language_info": {
   "codemirror_mode": {
    "name": "ipython",
    "version": 3
   },
   "file_extension": ".py",
   "mimetype": "text/x-python",
   "name": "python",
   "nbconvert_exporter": "python",
   "pygments_lexer": "ipython3",
   "version": "3.9.7"
  },
  "toc-autonumbering": true
 },
 "nbformat": 4,
 "nbformat_minor": 4
}
